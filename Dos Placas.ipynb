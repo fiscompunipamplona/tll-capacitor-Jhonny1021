{
 "cells": [
  {
   "cell_type": "markdown",
   "metadata": {},
   "source": [
    "# Problema 9.3\n",
    "Considere el siguiente modelo simple de un capacitor electronico, consiste en dos placas metalicas planas encerradas en una caja de metal cuadrada:\n",
    "\n",
    "Por simplicidad vamos a modelar el sistema en dos dimensiones. Usando cualquiera de los metodos estudiados, excriba un programa para calcular el potencial electrostatico en la caja en una malla de 100 x 100 puntos, donde los muros de la caja tienen voltaje cero y las dos placas (las cuales tienen gorosor despreciable) tiene voltaje +V o -V como se muestra. El programa debe calcular el valor del potencial en cada punto de la malla con una precision de $10^{-6}$ voltios y haga una grafica de la densidad."
   ]
  },
  {
   "cell_type": "markdown",
   "metadata": {},
   "source": [
    "## Solucionando para el metodo de relajacion normal"
   ]
  },
  {
   "cell_type": "code",
   "execution_count": 5,
   "metadata": {},
   "outputs": [
    {
     "data": {
      "image/png": "[encoded data removed]",
      "text/plain": [
       "<Figure size 432x288 with 1 Axes>"
      ]
     },
     "metadata": {
      "needs_background": "light"
     },
     "output_type": "display_data"
    }
   ],
   "source": [
    "from numpy import empty,zeros,max\n",
    "from pylab import imshow,gray,show\n",
    "\n",
    "#Constantes\n",
    "M = 100        #Cuadrados de rejilla en un lado\n",
    "V = 1.0        #Voltaje en el muro tope \n",
    "target = 1e-6  #Precisión \n",
    "#e_o=8.6841878176e-12 #Permitividad electrica del vacio\n",
    "\n",
    "\n",
    "#Creando arrays para guardar los valores de potencial\n",
    "phi = zeros([M+1,M+1],float)\n",
    "phi[0,:] = 0\n",
    "ro = zeros([M+1,M+1],float)\n",
    "ro[20:81,20]=1.0\n",
    "ro[20:81,80]=-1.0\n",
    "phiprime = empty([M+1,M+1],float)\n",
    "\n",
    "#Main loop\n",
    "delta = 1.0\n",
    "while delta>target:\n",
    "    \n",
    "    #Calcular los nuevos valores de potencial\n",
    "    for i in range(M+1):\n",
    "        for j in range(M+1):\n",
    "            if i==0 or i==M or j==0 or j==M:\n",
    "                phiprime[i,j] = phi[i,j]\n",
    "            else:\n",
    "                phiprime[i,j] = (phi[i+1,j] + phi[i-1,j] + phi[i,j+1] + phi[i,j-1])/4+(ro[i,j])/4\n",
    "                \n",
    "    #Calculando la diferencia maxima de los valores viejos\n",
    "    delta = max(abs(phi-phiprime))\n",
    "                \n",
    "    #Cambiando los dos arrays\n",
    "    phi,phiprime = phiprime,phi\n",
    "                \n",
    "#Hacer grafico\n",
    "imshow(phi)\n",
    "gray()\n",
    "show()\n"
   ]
  },
  {
   "cell_type": "markdown",
   "metadata": {},
   "source": [
    "Metodo poco eficaz computacionalmente"
   ]
  },
  {
   "cell_type": "markdown",
   "metadata": {},
   "source": [
    "## Solucionando para el metodo de Gauss-Sediel"
   ]
  },
  {
   "cell_type": "code",
   "execution_count": 4,
   "metadata": {},
   "outputs": [
    {
     "data": {
      "image/png": "[encoded data removed]",
      "text/plain": [
       "<Figure size 432x288 with 1 Axes>"
      ]
     },
     "metadata": {
      "needs_background": "light"
     },
     "output_type": "display_data"
    }
   ],
   "source": [
    "from numpy import empty,zeros,max\n",
    "from pylab import imshow,gray,show\n",
    "\n",
    "#Constantes\n",
    "M= 100\n",
    "V= 1.0\n",
    "target = 1e-6\n",
    "#Creando arrays para guardar los valores de potencial\n",
    "phi = zeros([M+1,M+1],float)\n",
    "phi[0,:]= 0\n",
    "ro = zeros([M+1,M+1],float)\n",
    "ro[20:81,20] = 1.0\n",
    "ro[20:81,80] = -1.0\n",
    "\n",
    "#Main loop\n",
    "delta = 1.0\n",
    "omega = 0.9\n",
    "while delta>target:\n",
    "    delta = 0\n",
    "    #Calcular los nuevos valores de potencial\n",
    "    for i in range(1,M):\n",
    "        for j in range(1,M):\n",
    "            difference=((phi[i+1,j] + phi[i-1,j]\\\n",
    "                       + phi[i,j+1] + phi[i,j-1])/4 +(ro[i,j])/4) - phi[i,j]\n",
    "            phi[i,j]=phi[i,j]+(1+omega)*difference\n",
    "           \n",
    "            if difference>delta: delta=difference\n",
    "            \n",
    "            \n",
    "imshow(phi)            \n",
    "gray()\n",
    "show()"
   ]
  },
  {
   "cell_type": "code",
   "execution_count": null,
   "metadata": {},
   "outputs": [],
   "source": []
  }
 ],
 "metadata": {
  "kernelspec": {
   "display_name": "Python 3",
   "language": "python",
   "name": "python3"
  },
  "language_info": {
   "codemirror_mode": {
    "name": "ipython",
    "version": 3
   },
   "file_extension": ".py",
   "mimetype": "text/x-python",
   "name": "python",
   "nbconvert_exporter": "python",
   "pygments_lexer": "ipython3",
   "version": "3.5.2"
  }
 },
 "nbformat": 4,
 "nbformat_minor": 2
}
